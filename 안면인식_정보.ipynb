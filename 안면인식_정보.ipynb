{
 "cells": [
  {
   "cell_type": "markdown",
   "metadata": {
    "id": "hk02ht3SCgpo",
    "pycharm": {
     "name": "#%% md\n"
    }
   },
   "source": []
  },
  {
   "cell_type": "code",
   "execution_count": null,
   "metadata": {
    "id": "6BJn6vU3DIrr",
    "pycharm": {
     "name": "#%%\n"
    }
   },
   "outputs": [],
   "source": [
    "def crop(image,input_size):# 이미지 하나, 모델에 들어갈 사이즈 / dlib.get_frontal_face_detector() 모델을 이용해 얼굴을 찾고 잘라낸다.\n",
    "    imgs=[]\n",
    "    detector = dlib.get_frontal_face_detector()\n",
    "    faces = detector(image)\n",
    "    for face in faces:\n",
    "        face_img=image[face.top():face.bottom(), face.left():face.right()]\n",
    "        face_img=cv2.resize(face_img,dsize=input_size)\n",
    "        face_input=face_img.copy().reshape((input_size[1], input_size[0], 3)).astype(np.float32)/255.\n",
    "        imgs.append(face_input)\n",
    "    return imgs# 얼굴 여러개"
   ]
  },
  {
   "cell_type": "code",
   "execution_count": null,
   "metadata": {
    "id": "PmeR6SFKDIxX",
    "pycharm": {
     "name": "#%%\n"
    }
   },
   "outputs": [],
   "source": [
    "def load_imgs(img_path):# 모델 폴더 경로를 받아서 내부의 jpg 파일을 모두 로드한다.\n",
    "    result=[]\n",
    "    imgs_path_list= [x for x in glob.glob(img_path + '/*.jpg')]\n",
    "\n",
    "    for img_path in imgs_path_list:\n",
    "        img = cv2.imread(img_path, cv2.IMREAD_COLOR)\n",
    "        img = cv2.resize(img,fx=1, fy=1,dsize=(0,0),interpolation=cv2.INTER_AREA)\n",
    "        result.append(img)\n",
    "    return result # 리스트 형태로 여러장 이미지 반환"
   ]
  },
  {
   "cell_type": "code",
   "execution_count": null,
   "metadata": {
    "id": "kMGIBL0oDI1L",
    "pycharm": {
     "name": "#%%\n"
    }
   },
   "outputs": [],
   "source": [
    "def rotate(imgs,shapes):# dlib.shape_predictor 모델을 이용해 얻은 쉐입 정보로 코사인 법칙을 이용해 각도를 구하고 회전 행렬을 구해 회전시킨다.\n",
    "    rotated_imgs = []\n",
    "    for i,shape in enumerate(shapes):\n",
    "        cos,direction =trig(shape[39],shape[42])\n",
    "        radians= np.arccos(cos)\n",
    "        angle = 90 - (radians*180/math.pi)\n",
    "        (h, w) = imgs[i].shape[:2]\n",
    "        (cx, cy) = (w // 2, h // 2)\n",
    "        rotate_matrix = cv2.getRotationMatrix2D((cx, cy), angle*direction, 1.0)\n",
    "        rotate_img= cv2.warpAffine(np.array(imgs[i]), rotate_matrix, (w, h))\n",
    "        rotated_imgs.append(rotate_img)\n",
    "    return rotated_imgs   "
   ]
  },
  {
   "cell_type": "code",
   "execution_count": null,
   "metadata": {
    "id": "_n8NptTpDI4d",
    "pycharm": {
     "name": "#%%\n"
    }
   },
   "outputs": [],
   "source": [
    "def shape_to_np(shape, dtype=\"int\"):# dlib.shape_predictor에서 얻은 정보를 실제적으로 사용가능하게 해주는 함수\n",
    "    # initialize the list of (x, y)-coordinates\n",
    "    coords = np.zeros((shape.num_parts, 2), dtype=dtype)\n",
    "\n",
    "    # loop over all facial landmarks and convert them\n",
    "    # to a 2-tuple of (x, y)-coordinates\n",
    "    for i in range(0, shape.num_parts):\n",
    "        coords[i] = (shape.part(i).x, shape.part(i).y)\n",
    "\n",
    "    # return the list of (x, y)-coordinates\n",
    "    return coords"
   ]
  },
  {
   "cell_type": "code",
   "execution_count": null,
   "metadata": {
    "id": "IPV30kQODI8g",
    "pycharm": {
     "name": "#%%\n"
    }
   },
   "outputs": [],
   "source": [
    "def shape(imgs,predictor_path):# 얼굴 쉐입을 찾고 리스트로 저장해주는 함수\n",
    "    detector = dlib.get_frontal_face_detector()\n",
    "    predictor = dlib.shape_predictor(predictor_path)\n",
    "    shape_list = []\n",
    "    for img in imgs:\n",
    "        faces=detector(img)\n",
    "        for face in faces:\n",
    "            shape= predictor(img,face)\n",
    "            shape= shape_to_np(shape)\n",
    "            shape_list.append(shape)\n",
    "    return shape_list"
   ]
  },
  {
   "cell_type": "code",
   "execution_count": null,
   "metadata": {
    "id": "LAiNKWxpDWln",
    "pycharm": {
     "name": "#%%\n"
    }
   },
   "outputs": [],
   "source": [
    "def trig(point_1,point_2):# cp가 1이면 반시계방향 회전 -1이면 시계 방향 회전 / 코사인 법칙을 이용해 방향과 cos값 구함\n",
    "    x1=point_1[0]\n",
    "    y1=point_1[1]\n",
    "    x2=point_2[0]\n",
    "    y2=point_2[1]\n",
    "\n",
    "    a=abs((x2-x1))\n",
    "    b=abs((y2-y1))\n",
    "    c= math.sqrt(math.pow(a,2)+math.pow(b,2))\n",
    "\n",
    "    cos=(math.pow(b,2)+math.pow(c,2)-math.pow(a,2))/(2*b*c)\n",
    "\n",
    "    if y1>=y2:\n",
    "        direction= -1\n",
    "    else:\n",
    "        direction= 1\n",
    "\n",
    "    return cos,direction"
   ]
  },
  {
   "cell_type": "code",
   "execution_count": null,
   "metadata": {
    "id": "Aq4fb1ZvDe3Y",
    "pycharm": {
     "name": "#%%\n"
    }
   },
   "outputs": [],
   "source": [
    "profile_images_path='./images/profile' # 프로필 이미지 경로/ 여러장 가능 \n",
    "selfie_image_path= './images/selfie'# 셀프 카메라 이미지 경로 / 한장만 가능 \n",
    "model_path= './model/20180402-114759.pb'\n",
    "predictor_path ='./model/shape_predictor_68_face_landmarks.dat'\n",
    "\n",
    "\n",
    "input_size= (160,160)# 모델에 삽입되는 사이즈 / 변경하면 모델 안 돌아감 \n",
    "\n",
    "\n",
    "##-------------------------------------------------Load and crop images --------------------------------------------------------------------##\n",
    "\n",
    "profile_imgs = load_imgs(profile_images_path) # 1번에서 받은 프로필 이미지 로드\n",
    "selfie_img =load_imgs(selfie_image_path)# 2번에서 받은 프로필 이미지 로드\n",
    "\n",
    "predictor = dlib.shape_predictor(predictor_path) # 얼굴의 쉐입을 찾는 모델 선언\n",
    "detector = dlib.get_frontal_face_detector() # 얼굴 찾아주는 모델 선언\n",
    "\n",
    "profile_faces=[]\n",
    "for img in profile_imgs:\n",
    "    detected_faces=crop(img,input_size)# 모델을 통해 찾은 얼굴을 자르고 모델에 삽입되는 사이즈로 변경한다\n",
    "    for detected_face in detected_faces:\n",
    "        profile_faces.append(detected_face)# 얼굴 하나씩 들어있다.\n",
    "\n",
    "selfie_faces=crop(selfie_img[0],input_size) # 모델을 통해 찾은 얼굴을 자르고 모델에 삽입되는 사이즈로 변경한다\n",
    "\n",
    "\n",
    "# shape 리스트 생성\n",
    "\n",
    "\n",
    "profile_shapes= shape(profile_imgs,predictor_path) # 12번에서 받은 프로필 이미지에서 얼굴을 찾고, 찾은 얼굴에 쉐입을 찾는다.\n",
    "\n",
    "selfie_shapes = shape(selfie_img,predictor_path) # 13번에서 받은 프로필 이미지에서 얼굴을 찾고, 찾은 얼굴에 쉐입을 찾는다.\n",
    "\n",
    "\n",
    "# shape 정보를 바탕으로 회전\n",
    "\n",
    "profile_rotated_imgs=rotate(profile_faces,profile_shapes) # 프로필 사진 얻은 쉐입 정보를 바탕으로 회전시킨다.\n",
    "selfie_rotated_imgs=rotate(selfie_faces,selfie_shapes)# 프로필 사진 얻은 쉐입 정보를 바탕으로 회전시킨다.\n",
    "\n",
    "\n",
    "\n",
    "\n",
    "# ##--------------------------------------------------------prediction--------------------------------------------------------------##\n",
    "facenet= Facenet(model_path)\n",
    "\n",
    "print(\"profile에서 탐지된 얼굴 수 :\",len(profile_faces))\n",
    "print(\"selfie에서 탐지된 얼굴 수 :\",len(selfie_faces))\n",
    "\n",
    "profile_predictions= facenet.get_embeddings(profile_rotated_imgs)# 회전된 얼굴들을 벡터로 임베딩한다 \n",
    "selfie_predictions = facenet.get_embeddings(selfie_rotated_imgs) #회전된 얼굴들을 벡터로 임베딩한다 \n",
    "\n",
    "profile_predictions=np.reshape(profile_predictions,[-1,1,512])\n",
    "selfie_predictions=np.reshape(selfie_predictions,[-1,1,512])\n",
    "\n",
    "\n",
    "eucledian_dist = []\n",
    "print(\"벡터 거리 정보/ 0.9 이하는 동일인\")\n",
    "for i in range(len(profile_predictions)):\n",
    "    for j in range(len(selfie_predictions)):\n",
    "        dist=np.linalg.norm(profile_predictions[i]-selfie_predictions[j])\n",
    "        eucledian_dist.append(dist)\n",
    "print(eucledian_dist)\n",
    "\n",
    "\n",
    "\n",
    "## ----------------------------------- 이미지 체크할 때/ loded_imgs에 profile_imgs 나 selfie_imgs 를 써서 크로핑 된 이미지를 확인 가능하다 -------------------------------## \n",
    "loaded_imgs = profile_rotated_imgs# select profile_imgs or selfie_imgs\n",
    "\n",
    "\n",
    "for i in loaded_imgs:\n",
    "    a= cv2.cvtColor(i, cv2.COLOR_BGR2RGB)\n",
    "    a=np.array(a)\n",
    "    plt.imshow(a)\n",
    "    plt.show()\n"
   ]
  }
 ],
 "metadata": {
  "colab": {
   "name": "안면인식 정보.ipynb",
   "provenance": []
  },
  "kernelspec": {
   "display_name": "sc3project",
   "language": "python",
   "name": "python3"
  },
  "language_info": {
   "name": "python",
   "version": "3.8.13 (default, Mar 28 2022, 06:59:08) [MSC v.1916 64 bit (AMD64)]"
  },
  "vscode": {
   "interpreter": {
    "hash": "3e8d1ff1f83fe133716980672adc8cba2366107e41dd9dd72a876d3e17f78cf6"
   }
  }
 },
 "nbformat": 4,
 "nbformat_minor": 0
}
